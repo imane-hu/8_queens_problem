{
 "cells": [
  {
   "attachments": {},
   "cell_type": "markdown",
   "metadata": {},
   "source": [
    "# The 8 queen problem \n",
    "### Réalisé par :\n",
    "#### Imane Sidki"
   ]
  },
  {
   "attachments": {},
   "cell_type": "markdown",
   "metadata": {},
   "source": [
    "\n",
    "#### Le probleme est de placer 8 reines dans un échiquier de 8x8 cases, de telle façon que chaque deux reines ne se croisent jamais, en utilisant l'algorithme heuristique."
   ]
  },
  {
   "attachments": {},
   "cell_type": "markdown",
   "metadata": {},
   "source": [
    "#### Etape 1 (Initialisation): Créer une population initiale de solutions aléatoires."
   ]
  },
  {
   "cell_type": "code",
   "execution_count": 7,
   "metadata": {},
   "outputs": [],
   "source": [
    "import numpy as np \n",
    "import math as m\n",
    "\n",
    "def initialize(pop_size) :\n",
    "    return np.random.randint(8, size=(pop_size, 8))"
   ]
  },
  {
   "attachments": {},
   "cell_type": "markdown",
   "metadata": {},
   "source": [
    "La fonction np.random.randint(8, size=(pop_size, 8)) crée une matrice de taille pop_size par 8, où chaque élément est un nombre entier aléatoire entre 0 et 7 inclus. Chaque élément de la matrice représente la position d'une reine dans une rangée donnée de l'échiquier."
   ]
  },
  {
   "cell_type": "code",
   "execution_count": 8,
   "metadata": {},
   "outputs": [
    {
     "name": "stdout",
     "output_type": "stream",
     "text": [
      "[[3 4 1 7 1 4 7 3]\n",
      " [5 1 0 7 0 1 5 7]\n",
      " [4 2 0 3 2 5 5 2]\n",
      " [6 7 4 5 2 5 3 0]\n",
      " [5 0 1 4 3 7 1 2]]\n"
     ]
    }
   ],
   "source": [
    "population_initiale = initialize(5)\n",
    "print(population_initiale)"
   ]
  },
  {
   "attachments": {},
   "cell_type": "markdown",
   "metadata": {},
   "source": [
    "### Etape 2 (Evaluation) : fonction de fitness\n",
    "##### Évaluer la qualité de chaque solution dans la population en utilisant une fonction de fitness qui mesure à quel point chaque solution est proche de la solution optimale."
   ]
  },
  {
   "cell_type": "code",
   "execution_count": 9,
   "metadata": {},
   "outputs": [],
   "source": [
    "def fitness(population):\n",
    "    # Crée une liste vide pour stocker les scores de fitness\n",
    "    fitness_vals = []\n",
    "    # Pour chaque solution dans la population\n",
    "    for x in population:\n",
    "        # Initialise la variable penalty à zéro pour stocker les pénalités de cette solution\n",
    "        penalty = 0\n",
    "        # Pour chaque reine i dans la solution\n",
    "        for i in range(8):\n",
    "            # Récupère la colonne de la reine i\n",
    "            r = x[i]\n",
    "            # Pour chaque autre reine j dans la solution\n",
    "            for j in range(8):\n",
    "                # Si i et j sont dans la même colonne, passer à la reine suivante\n",
    "                if i == j:\n",
    "                    continue\n",
    "                # Calculer la distance verticale ou diagonale entre les reines i et j\n",
    "                d = abs(i-j)\n",
    "                # Si la reine j est dans la même colonne ou sur une diagonale avec la reine i, ajouter une pénalité\n",
    "                if x[j] in [r, r-d, r+d]:\n",
    "                    penalty += 1\n",
    "        # Ajouter le score de fitness de cette solution à la liste des scores de fitness\n",
    "        fitness_vals.append(penalty)\n",
    "    # Retourne les scores de fitness inversés en signe, pour que l'algorithme cherche à les maximiser\n",
    "    return (-1 * np.array(fitness_vals))\n"
   ]
  },
  {
   "cell_type": "code",
   "execution_count": 10,
   "metadata": {},
   "outputs": [
    {
     "name": "stdout",
     "output_type": "stream",
     "text": [
      "[-18 -14 -14 -14 -16]\n"
     ]
    }
   ],
   "source": [
    "fitness_valeurs = fitness(population_initiale)\n",
    "print(fitness_valeurs)"
   ]
  },
  {
   "attachments": {},
   "cell_type": "markdown",
   "metadata": {},
   "source": [
    "### Etape 3 (Sélection) :\n",
    "##### Sélectionner les solutions les plus performantes (celles avec les meilleurs scores de fitness) pour la reproduction. "
   ]
  },
  {
   "cell_type": "code",
   "execution_count": 11,
   "metadata": {},
   "outputs": [],
   "source": [
    "def selection(pop, fitness_valeurs):\n",
    "    # Crée une copie de la liste des scores de fitness\n",
    "    scores = fitness_valeurs.copy()\n",
    "    # Ajoute 1 au score de fitness minimum pour éviter les divisions par zéro\n",
    "    scores += abs(scores.min()) + 1\n",
    "    # Normalise les scores de fitness pour obtenir des probabilités\n",
    "    probs = scores / scores.sum()\n",
    "    # Récupère le nombre de solutions dans la population\n",
    "    N = len(pop)\n",
    "    # Crée un tableau d'indices de solutions\n",
    "    indices = np.arange(N)\n",
    "    # Sélectionne des solutions aléatoirement en utilisant les probabilités normalisées comme poids\n",
    "    selected_indices = np.random.choice(indices, size=N, p=probs)\n",
    "    # Sélectionne les solutions correspondantes à ces indices\n",
    "    #les solutions ayant un score de fitness plus élevé ont une plus grande chance d'être sélectionnées pour la reproduction.\n",
    "    selected_population = pop[selected_indices]\n",
    "    # Retourne les solutions sélectionnées\n",
    "    return selected_population\n"
   ]
  },
  {
   "cell_type": "code",
   "execution_count": 12,
   "metadata": {},
   "outputs": [
    {
     "name": "stdout",
     "output_type": "stream",
     "text": [
      "[[4 2 0 3 2 5 5 2]\n",
      " [5 1 0 7 0 1 5 7]\n",
      " [5 0 1 4 3 7 1 2]\n",
      " [6 7 4 5 2 5 3 0]\n",
      " [5 0 1 4 3 7 1 2]]\n"
     ]
    }
   ],
   "source": [
    "population_selectionnee = selection(population_initiale,fitness_valeurs)\n",
    "print(population_selectionnee)"
   ]
  },
  {
   "attachments": {},
   "cell_type": "markdown",
   "metadata": {},
   "source": [
    "### Etape 4 (crossover) : \n",
    "##### Reproduction:Créer une nouvelle génération de solutions en croisant les solutions sélectionnées et en introduisant des mutations pour explorer de nouvelles zones de l'espace de recherche.\n"
   ]
  },
  {
   "cell_type": "code",
   "execution_count": 13,
   "metadata": {},
   "outputs": [],
   "source": [
    "def crossover(parent1,parent2,tc): #tc : taux de crossover\n",
    "    r=np.random.random() # r nombre aleatoire entre 0 et 1\n",
    "    if r<tc: #alors il y aura un crossover\n",
    "        m=np.random.randint(1,8) #la première position est exclue car elle ne permettrait pas de croiser les deux parents\n",
    "        #child1 est créé en prenant les premiers m éléments de parent1 et les derniers éléments de parent2. \n",
    "        child1 = np.concatenate([parent1[:m],parent2[m:]])\n",
    "        child2 = np.concatenate([parent2[:m],parent1[m:]])\n",
    "    else :\n",
    "        child1 = parent1.copy()\n",
    "        child2 = parent2.copy()\n",
    "    return child1,child2"
   ]
  },
  {
   "cell_type": "code",
   "execution_count": 16,
   "metadata": {},
   "outputs": [
    {
     "name": "stdout",
     "output_type": "stream",
     "text": [
      "parent1 [4 2 0 3 2 5 5 2] ||| child1 [4 2 0 3 2 5 5 7]\n",
      "parent2 [5 1 0 7 0 1 5 7] ||| child2 [5 1 0 7 0 1 5 2]\n"
     ]
    }
   ],
   "source": [
    "parent1 = population_selectionnee[0]\n",
    "parent2 = population_selectionnee[1]\n",
    "\n",
    "child1,child2 = crossover(parent1,parent2,tc=0.7)\n",
    "print(\"parent1\",parent1, '|||', \"child1\", child1)\n",
    "print(\"parent2\",parent2, '|||', \"child2\", child2)"
   ]
  },
  {
   "attachments": {},
   "cell_type": "markdown",
   "metadata": {},
   "source": [
    "### Etape 5 : Mutation \n",
    "##### modifier aleatoirement une valeur de chaque individu avec de petites probabilites"
   ]
  },
  {
   "cell_type": "code",
   "execution_count": 18,
   "metadata": {},
   "outputs": [],
   "source": [
    "def mutation(individu , p):\n",
    "    r = np.random.random()\n",
    "    if r<p:\n",
    "        m= np.random.randint(8)\n",
    "        individu[m] = np.random.randint(8)\n",
    "    return individu"
   ]
  },
  {
   "attachments": {},
   "cell_type": "markdown",
   "metadata": {},
   "source": [
    "### Etape 6: Crossover et mutation"
   ]
  },
  {
   "cell_type": "code",
   "execution_count": 20,
   "metadata": {},
   "outputs": [],
   "source": [
    "def crossover_mutation(select_pop , pc , pm):\n",
    "    N = len(select_pop)\n",
    "    new_pop = np.empty((N,8), dtype=int)\n",
    "    for i in range(0,N,2):\n",
    "        pr1 = select_pop[i]\n",
    "        pr2 = select_pop[i+1]\n",
    "        child1 , child2 = crossover(pr1,pr2,pc)\n",
    "        new_pop[i] = child1\n",
    "        new_pop[i+1] = child2\n",
    "    for i in range(N):\n",
    "        mutation(new_pop[i],pm)\n",
    "    return new_pop"
   ]
  },
  {
   "attachments": {},
   "cell_type": "markdown",
   "metadata": {},
   "source": [
    "La fonction crossover_mutation représente la cinquième étape de l'algorithme génétique, qui consiste à croiser et muter les individus sélectionnés pour créer une nouvelle population. Elle prend en entrée la population sélectionnée (select_pop), la probabilité de croisement (pc) et la probabilité de mutation (pm).\n",
    "\n",
    "Pour chaque paire d'individus dans la population sélectionnée, la fonction utilise la fonction crossover pour effectuer une opération de croisement avec une probabilité de croisement pc et générer deux nouveaux enfants. Ces enfants sont ensuite ajoutés à la nouvelle population.\n",
    "\n",
    "Ensuite, la fonction itère sur chaque individu de la nouvelle population et utilise la fonction mutation pour muter chaque individu avec une probabilité de mutation pm.\n",
    "\n",
    "Enfin, la fonction retourne la nouvelle population résultante de l'opération de croisement et de mutation."
   ]
  },
  {
   "attachments": {},
   "cell_type": "markdown",
   "metadata": {},
   "source": [
    "### solution finale\n",
    "##### Dans cette fonction principale en applique l'algorithme en utilisant toutes les fonctions implémentées dans une boucle jusqu'a atteindre le nombre maximum de générations"
   ]
  },
  {
   "cell_type": "code",
   "execution_count": 35,
   "metadata": {},
   "outputs": [],
   "source": [
    "def eight_queens_problem(pop_size, max_gen, pc = 0.7, pm = 0.01) :\n",
    "    population = initialize(pop_size)\n",
    "    best_fitness_overall = None\n",
    "    fitness_list = []\n",
    "    for i_gen in range(max_gen):\n",
    "        fitness_vals = fitness(population)\n",
    "        best_i = fitness_vals.argmax()\n",
    "        best_fitness = fitness_vals[best_i]\n",
    "        if best_fitness_overall is None or best_fitness > best_fitness_overall :\n",
    "            best_fitness_overall = best_fitness\n",
    "            best_solution = population[best_i]\n",
    "        fitness_list.append(best_fitness)\n",
    "        print(f'\\rgeneration = {i_gen+1:06} -fitness ={-best_fitness:03}',end='')\n",
    "        if best_fitness == 0 :\n",
    "            print('\\nsolution optimale trouvée')\n",
    "            break\n",
    "        selected_pop = selection(population, fitness_vals)\n",
    "        population = crossover_mutation(selected_pop, pc, pm)\n",
    "    print(best_solution)\n",
    "    return fitness_list #a utiliser dans le graphe de convergence"
   ]
  },
  {
   "cell_type": "code",
   "execution_count": 40,
   "metadata": {},
   "outputs": [
    {
     "name": "stdout",
     "output_type": "stream",
     "text": [
      "generation = 000005 -fitness =000\n",
      "solution optimale trouvée\n",
      "[5 2 0 7 3 1 6 4]\n"
     ]
    }
   ],
   "source": [
    "fitness_list = eight_queens_problem(pop_size = 500, max_gen = 40, pc = 0.7, pm = 0.05)"
   ]
  },
  {
   "cell_type": "code",
   "execution_count": 41,
   "metadata": {},
   "outputs": [
    {
     "data": {
      "text/plain": [
       "array([0])"
      ]
     },
     "execution_count": 41,
     "metadata": {},
     "output_type": "execute_result"
    }
   ],
   "source": [
    "#test \n",
    "fitness([[5, 2, 0, 7, 3, 1, 6, 4]])"
   ]
  },
  {
   "attachments": {},
   "cell_type": "markdown",
   "metadata": {},
   "source": [
    "Donc c'est une solution optimale puisque la fitness egale 0. <br>Si on représente la solution dans un échiquier de telle manière que les 1 représentent les reines on aura :<br>\n",
    "[<br>\n",
    " [0 0 0 0 0 1 0 0]<br>\n",
    " [0 0 1 0 0 0 0 0]<br>\n",
    " [1 0 0 0 0 0 0 0]<br>\n",
    " [0 0 0 0 0 0 0 1]<br>\n",
    " [0 0 0 1 0 0 0 0]<br>\n",
    " [0 1 0 0 0 0 0 0]<br>\n",
    " [0 0 0 0 0 0 1 0]<br>\n",
    " [0 0 0 0 1 0 0 0]<br>\n",
    "]"
   ]
  },
  {
   "attachments": {},
   "cell_type": "markdown",
   "metadata": {},
   "source": [
    "### Possibilité d'avoir plusieurs solutions optimales :\n",
    "##### En executant chaque fois ces codes la population initiale générée par randamint change et ainsi la solution finale change et est optimale aussi.<br>Donc au minimum pour chaque population initiale il ya une solution optimale."
   ]
  },
  {
   "attachments": {},
   "cell_type": "markdown",
   "metadata": {},
   "source": [
    "### le graphe de convergence"
   ]
  },
  {
   "cell_type": "code",
   "execution_count": 42,
   "metadata": {},
   "outputs": [
    {
     "data": {
      "image/png": "[encoded data removed]",
      "text/plain": [
       "<Figure size 640x480 with 1 Axes>"
      ]
     },
     "metadata": {},
     "output_type": "display_data"
    }
   ],
   "source": [
    "import matplotlib.pyplot as plt\n",
    "\n",
    "plt.plot(fitness_list)\n",
    "plt.xlabel('Generation')\n",
    "plt.ylabel('Best Fitness')\n",
    "plt.title('graphe de convergence')\n",
    "plt.show()\n"
   ]
  }
 ],
 "metadata": {
  "kernelspec": {
   "display_name": "Python 3",
   "language": "python",
   "name": "python3"
  },
  "language_info": {
   "codemirror_mode": {
    "name": "ipython",
    "version": 3
   },
   "file_extension": ".py",
   "mimetype": "text/x-python",
   "name": "python",
   "nbconvert_exporter": "python",
   "pygments_lexer": "ipython3",
   "version": "3.9.1"
  },
  "orig_nbformat": 4
 },
 "nbformat": 4,
 "nbformat_minor": 2
}
